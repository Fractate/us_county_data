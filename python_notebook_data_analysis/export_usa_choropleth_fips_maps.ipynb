{
 "cells": [
  {
   "cell_type": "markdown",
   "metadata": {},
   "source": [
    "### export_usa_choropleth_fips_maps"
   ]
  },
  {
   "cell_type": "code",
   "execution_count": 8,
   "metadata": {},
   "outputs": [],
   "source": [
    "# Init\n",
    "# %pip install plotly\n",
    "# %pip install nbformat\n",
    "# --upgrade nbformat\n",
    "\n",
    "from __future__ import division\n",
    "import pandas as pd\n",
    "import numpy as np\n",
    "import statsmodels.api as sm\n",
    "import statsmodels.formula.api as smf\n",
    "import os\n",
    "import matplotlib.pyplot as plt\n",
    "import seaborn as sns\n",
    "\n",
    "export_df = pd.read_csv('../unzipped_shp_and_shx_shape_files/export.csv', na_values=\".\")\n"
   ]
  },
  {
   "cell_type": "code",
   "execution_count": 9,
   "metadata": {},
   "outputs": [
    {
     "data": {
      "text/html": [
       "<div>\n",
       "<style scoped>\n",
       "    .dataframe tbody tr th:only-of-type {\n",
       "        vertical-align: middle;\n",
       "    }\n",
       "\n",
       "    .dataframe tbody tr th {\n",
       "        vertical-align: top;\n",
       "    }\n",
       "\n",
       "    .dataframe thead th {\n",
       "        text-align: right;\n",
       "    }\n",
       "</style>\n",
       "<table border=\"1\" class=\"dataframe\">\n",
       "  <thead>\n",
       "    <tr style=\"text-align: right;\">\n",
       "      <th></th>\n",
       "      <th>fips</th>\n",
       "      <th>county_zip_file_name</th>\n",
       "      <th>roads_length_m</th>\n",
       "      <th>intersections</th>\n",
       "      <th>countyname</th>\n",
       "      <th>population</th>\n",
       "      <th>state</th>\n",
       "      <th>county</th>\n",
       "      <th>area_land_sqm</th>\n",
       "      <th>area_water_sqm</th>\n",
       "      <th>...</th>\n",
       "      <th>B11016_family_households_7_or_more</th>\n",
       "      <th>B11016_family_households_total</th>\n",
       "      <th>B13002_fertile_women_given_birth</th>\n",
       "      <th>B13002_fertile_women_total</th>\n",
       "      <th>area_land_sqkm</th>\n",
       "      <th>roads_length_km</th>\n",
       "      <th>intersects_per_road_length</th>\n",
       "      <th>road_length_per_intersect</th>\n",
       "      <th>population_density</th>\n",
       "      <th>intersects_per_population_density</th>\n",
       "    </tr>\n",
       "  </thead>\n",
       "  <tbody>\n",
       "    <tr>\n",
       "      <th>0</th>\n",
       "      <td>1001</td>\n",
       "      <td>tl_2020_01001_roads.zip</td>\n",
       "      <td>2658136.223</td>\n",
       "      <td>4926</td>\n",
       "      <td>Autauga County, Alabama</td>\n",
       "      <td>58805</td>\n",
       "      <td>1</td>\n",
       "      <td>1</td>\n",
       "      <td>1.539631e+09</td>\n",
       "      <td>2.567754e+07</td>\n",
       "      <td>...</td>\n",
       "      <td>129</td>\n",
       "      <td>15103</td>\n",
       "      <td>743</td>\n",
       "      <td>13737</td>\n",
       "      <td>1539.631461</td>\n",
       "      <td>2658.136223</td>\n",
       "      <td>1.853178</td>\n",
       "      <td>0.539614</td>\n",
       "      <td>38.194205</td>\n",
       "      <td>70.780667</td>\n",
       "    </tr>\n",
       "    <tr>\n",
       "      <th>1</th>\n",
       "      <td>1003</td>\n",
       "      <td>tl_2020_01003_roads.zip</td>\n",
       "      <td>6818407.996</td>\n",
       "      <td>17393</td>\n",
       "      <td>Baldwin County, Alabama</td>\n",
       "      <td>231767</td>\n",
       "      <td>1</td>\n",
       "      <td>3</td>\n",
       "      <td>4.117725e+09</td>\n",
       "      <td>1.132887e+09</td>\n",
       "      <td>...</td>\n",
       "      <td>583</td>\n",
       "      <td>56092</td>\n",
       "      <td>1892</td>\n",
       "      <td>46768</td>\n",
       "      <td>4117.724893</td>\n",
       "      <td>6818.407996</td>\n",
       "      <td>2.550889</td>\n",
       "      <td>0.392020</td>\n",
       "      <td>56.285207</td>\n",
       "      <td>143.577301</td>\n",
       "    </tr>\n",
       "    <tr>\n",
       "      <th>2</th>\n",
       "      <td>1005</td>\n",
       "      <td>tl_2020_01005_roads.zip</td>\n",
       "      <td>2025010.112</td>\n",
       "      <td>2918</td>\n",
       "      <td>Barbour County, Alabama</td>\n",
       "      <td>25223</td>\n",
       "      <td>1</td>\n",
       "      <td>5</td>\n",
       "      <td>2.292160e+09</td>\n",
       "      <td>5.052321e+07</td>\n",
       "      <td>...</td>\n",
       "      <td>57</td>\n",
       "      <td>6083</td>\n",
       "      <td>339</td>\n",
       "      <td>4756</td>\n",
       "      <td>2292.160151</td>\n",
       "      <td>2025.010112</td>\n",
       "      <td>1.440980</td>\n",
       "      <td>0.693972</td>\n",
       "      <td>11.004030</td>\n",
       "      <td>15.856593</td>\n",
       "    </tr>\n",
       "    <tr>\n",
       "      <th>3</th>\n",
       "      <td>1007</td>\n",
       "      <td>tl_2020_01007_roads.zip</td>\n",
       "      <td>1957160.039</td>\n",
       "      <td>3039</td>\n",
       "      <td>Bibb County, Alabama</td>\n",
       "      <td>22293</td>\n",
       "      <td>1</td>\n",
       "      <td>7</td>\n",
       "      <td>1.612189e+09</td>\n",
       "      <td>9.572302e+06</td>\n",
       "      <td>...</td>\n",
       "      <td>145</td>\n",
       "      <td>5276</td>\n",
       "      <td>530</td>\n",
       "      <td>4709</td>\n",
       "      <td>1612.188713</td>\n",
       "      <td>1957.160039</td>\n",
       "      <td>1.552760</td>\n",
       "      <td>0.644014</td>\n",
       "      <td>13.827786</td>\n",
       "      <td>21.471234</td>\n",
       "    </tr>\n",
       "    <tr>\n",
       "      <th>4</th>\n",
       "      <td>1009</td>\n",
       "      <td>tl_2020_01009_roads.zip</td>\n",
       "      <td>2615906.457</td>\n",
       "      <td>4195</td>\n",
       "      <td>Blount County, Alabama</td>\n",
       "      <td>59134</td>\n",
       "      <td>1</td>\n",
       "      <td>9</td>\n",
       "      <td>1.670259e+09</td>\n",
       "      <td>1.486028e+07</td>\n",
       "      <td>...</td>\n",
       "      <td>279</td>\n",
       "      <td>15035</td>\n",
       "      <td>511</td>\n",
       "      <td>12551</td>\n",
       "      <td>1670.259093</td>\n",
       "      <td>2615.906457</td>\n",
       "      <td>1.603651</td>\n",
       "      <td>0.623577</td>\n",
       "      <td>35.404088</td>\n",
       "      <td>56.775788</td>\n",
       "    </tr>\n",
       "  </tbody>\n",
       "</table>\n",
       "<p>5 rows × 197 columns</p>\n",
       "</div>"
      ],
      "text/plain": [
       "   fips     county_zip_file_name  roads_length_m  intersections  \\\n",
       "0  1001  tl_2020_01001_roads.zip     2658136.223           4926   \n",
       "1  1003  tl_2020_01003_roads.zip     6818407.996          17393   \n",
       "2  1005  tl_2020_01005_roads.zip     2025010.112           2918   \n",
       "3  1007  tl_2020_01007_roads.zip     1957160.039           3039   \n",
       "4  1009  tl_2020_01009_roads.zip     2615906.457           4195   \n",
       "\n",
       "                countyname  population  state  county  area_land_sqm  \\\n",
       "0  Autauga County, Alabama       58805      1       1   1.539631e+09   \n",
       "1  Baldwin County, Alabama      231767      1       3   4.117725e+09   \n",
       "2  Barbour County, Alabama       25223      1       5   2.292160e+09   \n",
       "3     Bibb County, Alabama       22293      1       7   1.612189e+09   \n",
       "4   Blount County, Alabama       59134      1       9   1.670259e+09   \n",
       "\n",
       "   area_water_sqm  ...  B11016_family_households_7_or_more  \\\n",
       "0    2.567754e+07  ...                                 129   \n",
       "1    1.132887e+09  ...                                 583   \n",
       "2    5.052321e+07  ...                                  57   \n",
       "3    9.572302e+06  ...                                 145   \n",
       "4    1.486028e+07  ...                                 279   \n",
       "\n",
       "   B11016_family_households_total  B13002_fertile_women_given_birth  \\\n",
       "0                           15103                               743   \n",
       "1                           56092                              1892   \n",
       "2                            6083                               339   \n",
       "3                            5276                               530   \n",
       "4                           15035                               511   \n",
       "\n",
       "   B13002_fertile_women_total  area_land_sqkm  roads_length_km  \\\n",
       "0                       13737     1539.631461      2658.136223   \n",
       "1                       46768     4117.724893      6818.407996   \n",
       "2                        4756     2292.160151      2025.010112   \n",
       "3                        4709     1612.188713      1957.160039   \n",
       "4                       12551     1670.259093      2615.906457   \n",
       "\n",
       "  intersects_per_road_length road_length_per_intersect  population_density  \\\n",
       "0                   1.853178                  0.539614           38.194205   \n",
       "1                   2.550889                  0.392020           56.285207   \n",
       "2                   1.440980                  0.693972           11.004030   \n",
       "3                   1.552760                  0.644014           13.827786   \n",
       "4                   1.603651                  0.623577           35.404088   \n",
       "\n",
       "   intersects_per_population_density  \n",
       "0                          70.780667  \n",
       "1                         143.577301  \n",
       "2                          15.856593  \n",
       "3                          21.471234  \n",
       "4                          56.775788  \n",
       "\n",
       "[5 rows x 197 columns]"
      ]
     },
     "execution_count": 9,
     "metadata": {},
     "output_type": "execute_result"
    }
   ],
   "source": [
    "export_df.head()"
   ]
  },
  {
   "cell_type": "code",
   "execution_count": 15,
   "metadata": {},
   "outputs": [
    {
     "data": {
      "text/plain": [
       "'tl_2020_01001_roads.zip'"
      ]
     },
     "execution_count": 15,
     "metadata": {},
     "output_type": "execute_result"
    }
   ],
   "source": [
    "\n",
    "export_df.loc[export_df.index[1], 'fips_str']\n",
    "\n",
    "export_df.iloc[0,1]\n"
   ]
  },
  {
   "cell_type": "code",
   "execution_count": 16,
   "metadata": {},
   "outputs": [
    {
     "ename": "AttributeError",
     "evalue": "'numpy.int64' object has no attribute 'to_string'",
     "output_type": "error",
     "traceback": [
      "\u001b[1;31m---------------------------------------------------------------------------\u001b[0m",
      "\u001b[1;31mAttributeError\u001b[0m                            Traceback (most recent call last)",
      "Cell \u001b[1;32mIn [16], line 4\u001b[0m\n\u001b[0;32m      1\u001b[0m \u001b[38;5;66;03m# row first\u001b[39;00m\n\u001b[0;32m      3\u001b[0m \u001b[38;5;28;01mfor\u001b[39;00m idx \u001b[38;5;129;01min\u001b[39;00m export_df\u001b[38;5;241m.\u001b[39mindex:\n\u001b[1;32m----> 4\u001b[0m     export_df\u001b[38;5;241m.\u001b[39mloc[export_df\u001b[38;5;241m.\u001b[39mindex[idx], \u001b[38;5;124m'\u001b[39m\u001b[38;5;124mfips_str\u001b[39m\u001b[38;5;124m'\u001b[39m] \u001b[38;5;241m=\u001b[39m export_df\u001b[38;5;241m.\u001b[39mloc[export_df\u001b[38;5;241m.\u001b[39mindex[idx], \u001b[38;5;124m'\u001b[39m\u001b[38;5;124mfips\u001b[39m\u001b[38;5;124m'\u001b[39m]\u001b[38;5;241m.\u001b[39mto_string()\n\u001b[0;32m      5\u001b[0m     \u001b[38;5;28;01mif\u001b[39;00m \u001b[38;5;28mlen\u001b[39m(export_df\u001b[38;5;241m.\u001b[39mloc[export_df\u001b[38;5;241m.\u001b[39mindex[idx], \u001b[38;5;124m'\u001b[39m\u001b[38;5;124mfips_str\u001b[39m\u001b[38;5;124m'\u001b[39m]) \u001b[38;5;241m==\u001b[39m \u001b[38;5;241m4\u001b[39m:\n\u001b[0;32m      6\u001b[0m         export_df\u001b[38;5;241m.\u001b[39mloc[export_df\u001b[38;5;241m.\u001b[39mindex[idx], \u001b[38;5;124m'\u001b[39m\u001b[38;5;124mfips_str\u001b[39m\u001b[38;5;124m'\u001b[39m] \u001b[38;5;241m=\u001b[39m \u001b[38;5;124m'\u001b[39m\u001b[38;5;124m0\u001b[39m\u001b[38;5;124m'\u001b[39m \u001b[38;5;241m+\u001b[39m export_df\u001b[38;5;241m.\u001b[39mloc[export_df\u001b[38;5;241m.\u001b[39mindex[idx], \u001b[38;5;124m'\u001b[39m\u001b[38;5;124mfips_str\u001b[39m\u001b[38;5;124m'\u001b[39m]\n",
      "\u001b[1;31mAttributeError\u001b[0m: 'numpy.int64' object has no attribute 'to_string'"
     ]
    }
   ],
   "source": [
    "# row first\n",
    "\n",
    "for idx in export_df.index:\n",
    "    export_df.loc[export_df.index[idx], 'fips_str'] = str(export_df.loc[export_df.index[idx], 'fips'])\n",
    "    if len(export_df.loc[export_df.index[idx], 'fips_str']) == 4:\n",
    "        export_df.loc[export_df.index[idx], 'fips_str'] = '0' + export_df.loc[export_df.index[idx], 'fips_str']\n",
    "\n",
    "export_df['fips_str'].head()\n"
   ]
  },
  {
   "cell_type": "markdown",
   "metadata": {},
   "source": [
    "### Maps based on age group density per household"
   ]
  },
  {
   "cell_type": "markdown",
   "metadata": {},
   "source": [
    "##### plotly documentation link & example code"
   ]
  },
  {
   "cell_type": "code",
   "execution_count": null,
   "metadata": {},
   "outputs": [],
   "source": [
    "#### https://plotly.com/python/choropleth-maps/\n",
    "from urllib.request import urlopen\n",
    "import json\n",
    "with urlopen('https://raw.githubusercontent.com/plotly/datasets/master/geojson-counties-fips.json') as response:\n",
    "    counties = json.load(response)\n",
    "\n",
    "import pandas as pd\n",
    "df = pd.read_csv(\"https://raw.githubusercontent.com/plotly/datasets/master/fips-unemp-16.csv\",\n",
    "                   dtype={\"fips\": str})\n",
    "\n",
    "import plotly.express as px\n",
    "\n",
    "fig = px.choropleth(df, geojson=counties, locations='fips', color='unemp',\n",
    "                           color_continuous_scale=\"Viridis\",\n",
    "                           range_color=(0, 12),\n",
    "                           scope=\"usa\",\n",
    "                           labels={'unemp':'unemployment rate'}\n",
    "                          )\n",
    "fig.update_layout(margin={\"r\":0,\"t\":0,\"l\":0,\"b\":0})\n",
    "fig.show()"
   ]
  },
  {
   "cell_type": "code",
   "execution_count": null,
   "metadata": {},
   "outputs": [],
   "source": [
    "export_df['fips_str'].head()"
   ]
  },
  {
   "cell_type": "markdown",
   "metadata": {},
   "source": [
    "##### attempt at export_df graph"
   ]
  },
  {
   "cell_type": "code",
   "execution_count": null,
   "metadata": {},
   "outputs": [],
   "source": [
    "from urllib.request import urlopen\n",
    "import json\n",
    "with urlopen('https://raw.githubusercontent.com/plotly/datasets/master/geojson-counties-fips.json') as response:\n",
    "    counties = json.load(response)\n",
    "\n",
    "import plotly.express as px\n",
    "\n",
    "fig = px.choropleth(export_df, geojson=counties, locations='fips_str', color='B09001_population_3_to_4',\n",
    "                           color_continuous_scale=\"Viridis\",\n",
    "                           range_color=(0, 12),\n",
    "                           scope=\"usa\",\n",
    "                           labels={'unemp':'unemployment rate'}\n",
    "                          )\n",
    "fig.update_layout(margin={\"r\":0,\"t\":0,\"l\":0,\"b\":0})\n",
    "fig.show()"
   ]
  },
  {
   "cell_type": "code",
   "execution_count": null,
   "metadata": {},
   "outputs": [],
   "source": [
    "\n",
    "export_df['population_density/intersect_density'] = export_df['population_density'] / export_df['intersects_per_road_length']\n",
    "export_df['log_population_density'] = np.log(export_df['population_density'])\n",
    "export_df['log_intersect_density'] = np.log(export_df['intersects_per_road_length'])\n",
    "\n",
    "export_df['log_population_density/log_intersect_density'] = export_df['log_population_density'] / export_df['log_intersect_density']\n",
    "\n",
    "export_df['target'] = export_df['log_population_density/log_intersect_density']\n"
   ]
  },
  {
   "cell_type": "code",
   "execution_count": null,
   "metadata": {},
   "outputs": [],
   "source": [
    "from urllib.request import urlopen\n",
    "import json\n",
    "with urlopen('https://raw.githubusercontent.com/plotly/datasets/master/geojson-counties-fips.json') as response:\n",
    "    counties = json.load(response)\n",
    "\n",
    "import plotly.express as px\n",
    "\n",
    "fig = px.choropleth(export_df, geojson=counties, locations='fips_str', color='log_population_density',\n",
    "                           color_continuous_scale=\"Viridis\",\n",
    "                           range_color=(-2, 12),\n",
    "                           scope=\"usa\",\n",
    "                           labels={'unemp':'unemployment rate'}\n",
    "                          )\n",
    "fig.update_layout(margin={\"r\":0,\"t\":0,\"l\":0,\"b\":0})\n",
    "fig.show()"
   ]
  },
  {
   "cell_type": "code",
   "execution_count": null,
   "metadata": {},
   "outputs": [],
   "source": [
    "from urllib.request import urlopen\n",
    "import json\n",
    "with urlopen('https://raw.githubusercontent.com/plotly/datasets/master/geojson-counties-fips.json') as response:\n",
    "    counties = json.load(response)\n",
    "\n",
    "import plotly.express as px\n",
    "\n",
    "fig = px.choropleth(export_df, geojson=counties, locations='fips_str', color='log_intersect_density',\n",
    "                           color_continuous_scale=\"Viridis\",\n",
    "                           range_color=(-1, 2.5),\n",
    "                           scope=\"usa\",\n",
    "                           labels={'unemp':'unemployment rate'}\n",
    "                          )\n",
    "fig.update_layout(margin={\"r\":0,\"t\":0,\"l\":0,\"b\":0})\n",
    "fig.show()"
   ]
  },
  {
   "cell_type": "markdown",
   "metadata": {},
   "source": [
    "# DOES INTERSECT DENSITY PROVIDE A BETTER METRIC FOR WHICH ECONOMIC GROWHT OCCURS"
   ]
  },
  {
   "cell_type": "code",
   "execution_count": null,
   "metadata": {},
   "outputs": [],
   "source": []
  }
 ],
 "metadata": {
  "kernelspec": {
   "display_name": "Python 3 (ipykernel)",
   "language": "python",
   "name": "python3"
  },
  "language_info": {
   "codemirror_mode": {
    "name": "ipython",
    "version": 3
   },
   "file_extension": ".py",
   "mimetype": "text/x-python",
   "name": "python",
   "nbconvert_exporter": "python",
   "pygments_lexer": "ipython3",
   "version": "3.10.8"
  },
  "vscode": {
   "interpreter": {
    "hash": "a36ec43899a0caf4b8e96327d984f7682f5de923829754118f66a7729dbb8889"
   }
  }
 },
 "nbformat": 4,
 "nbformat_minor": 2
}
